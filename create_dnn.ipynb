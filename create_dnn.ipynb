{
 "cells": [
  {
   "cell_type": "code",
   "execution_count": 113,
   "id": "981df9b9",
   "metadata": {},
   "outputs": [],
   "source": [
    "import os\n",
    "import pandas as pd\n",
    "from sklearn.model_selection import train_test_split\n",
    "from tensorflow.keras.preprocessing.text import Tokenizer\n",
    "from tensorflow.keras.preprocessing.sequence import pad_sequences\n",
    "from tensorflow.keras.models import Sequential\n",
    "from tensorflow.keras.layers import Embedding, LSTM, Dropout, Dense\n",
    "from sklearn.metrics import classification_report"
   ]
  },
  {
   "cell_type": "code",
   "execution_count": 114,
   "id": "e03cf1db",
   "metadata": {},
   "outputs": [
    {
     "name": "stdout",
     "output_type": "stream",
     "text": [
      "5187\n"
     ]
    }
   ],
   "source": [
    "# Load the CSV file with encoding to avoid UnicodeDecodeError\n",
    "file_path = 'nigerian_fraud_email.csv'\n",
    "df_nigerian_scam = pd.read_csv(file_path, index_col=0, names=['text'], header=0, encoding='ISO-8859-1')\n",
    "\n",
    "# Display the first few rows of the DataFrame\n",
    "print(len(df))\n"
   ]
  },
  {
   "cell_type": "code",
   "execution_count": 115,
   "id": "286a673e",
   "metadata": {},
   "outputs": [
    {
     "name": "stdout",
     "output_type": "stream",
     "text": [
      "                                                text  label\n",
      "1  /nURGENT BUSINESS ASSISTANCE AND PARTNERSHIP./...      1\n",
      "2  /nDear Friend,/n/nI am Mr. Ben Suleman a custo...      1\n",
      "3  /nFROM HIS ROYAL MAJESTY (HRM) CROWN RULER OF ...      1\n",
      "4  /nFROM HIS ROYAL MAJESTY (HRM) CROWN RULER OF ...      1\n",
      "5  /nDear sir, /n /nIt is with a heart full of ho...      1\n"
     ]
    }
   ],
   "source": [
    "# Assign classification label (1 for phishing, 0 for non-phishing)\n",
    "df_nigerian_scam['label'] = 1 \n",
    "\n",
    "# Check the result\n",
    "print(df_nigerian_scam.head())"
   ]
  },
  {
   "cell_type": "code",
   "execution_count": 116,
   "id": "8c6e87ca",
   "metadata": {},
   "outputs": [
    {
     "name": "stdout",
     "output_type": "stream",
     "text": [
      "                                                   text  label\n",
      "3363  /nMy name is Mrs=2E hilda Ahmed from Iraq=2E I...      1\n",
      "4672  /nHello dear/n/nFrom, Miss ZACHI Medine/nAbidj...      1\n",
      "3543  /nRepublique de Cote d'Ivoire/nAbidjan,Rue 12,...      1\n",
      "473   /n/n/nDear Sir./n /n May I seek your indulgenc...      1\n",
      "1789  /nFROM MRS SUZAN SANKOH/nABIDJAN, IVORY COAST/...      1\n"
     ]
    }
   ],
   "source": [
    "# Randomly select 1000 rows from the dataset\n",
    "df_nigerian_scam = df_nigerian_scam.sample(n=865, random_state=42)\n",
    "\n",
    "# Drop the first column (index column) from the DataFrame\n",
    "# df_sample = df_sample.drop(df_sample.columns[0], axis=1)\n",
    "num_columns = df_nigerian_scam.shape[1]\n",
    "# print(f\"Number of columns: {num_columns}\")\n",
    "\n",
    "# Display the first few rows to confirm\n",
    "print(df_nigerian_scam.head())"
   ]
  },
  {
   "cell_type": "code",
   "execution_count": 117,
   "id": "3b33e109",
   "metadata": {},
   "outputs": [
    {
     "name": "stdout",
     "output_type": "stream",
     "text": [
      "                                          email_text\n",
      "0  🏋️‍♀️ Fitness Bootcamp Challenge - Sweat, Burn...\n",
      "1  🎨 Digital Art Contest: Showcase Your Talent!\\n...\n",
      "2  Reminder: Student Account Verification Needed\\...\n",
      "3  Talent Show Audition Reminder\\n\\nHello Dakota ...\n",
      "4  Attention Required: Confirm Your Student Accou...\n"
     ]
    }
   ],
   "source": [
    "# Define the directory path\n",
    "directory_path = 'AI_phishing_emails/'\n",
    "\n",
    "# Initialize an empty list to hold the email contents\n",
    "email_data = []\n",
    "\n",
    "# Loop through each file in the directory\n",
    "for file_name in os.listdir(directory_path):\n",
    "    if file_name.endswith('.txt'):  # Ensure you only process .txt files\n",
    "        file_path = os.path.join(directory_path, file_name)\n",
    "        \n",
    "        # Open and read the content of the file\n",
    "        with open(file_path, 'r', encoding='utf-8') as file:\n",
    "            email_content = file.read().strip()  # Read and strip any leading/trailing whitespace\n",
    "            \n",
    "        # Append the content to the email_data list\n",
    "        email_data.append(email_content)\n",
    "\n",
    "# Create a pandas DataFrame with the loaded emails\n",
    "df_ai_generated = pd.DataFrame(email_data, columns=['email_text'])\n",
    "\n",
    "# Display the first few rows of the DataFrame to confirm\n",
    "print(df_ai_generated.head())\n"
   ]
  },
  {
   "cell_type": "code",
   "execution_count": 118,
   "id": "69bf7796",
   "metadata": {},
   "outputs": [],
   "source": [
    "# Assign classification label (1 for human phishing, 0 for AI generated)\n",
    "df_ai_generated['label'] = 0"
   ]
  },
  {
   "cell_type": "code",
   "execution_count": 119,
   "id": "c61a0e2d",
   "metadata": {},
   "outputs": [
    {
     "name": "stdout",
     "output_type": "stream",
     "text": [
      "                                          email_text  label\n",
      "0  🏋️‍♀️ Fitness Bootcamp Challenge - Sweat, Burn...      0\n",
      "1  🎨 Digital Art Contest: Showcase Your Talent!\\n...      0\n",
      "2  Reminder: Student Account Verification Needed\\...      0\n",
      "3  Talent Show Audition Reminder\\n\\nHello Dakota ...      0\n",
      "4  Attention Required: Confirm Your Student Accou...      0\n"
     ]
    }
   ],
   "source": [
    "print(df_ai_generated.head())"
   ]
  },
  {
   "cell_type": "code",
   "execution_count": 120,
   "id": "1ad58fb9",
   "metadata": {},
   "outputs": [
    {
     "name": "stdout",
     "output_type": "stream",
     "text": [
      "dataset size:865\n"
     ]
    }
   ],
   "source": [
    "total_data = df_ai_generated.shape[0]\n",
    "print(f'dataset size:{total_data}')"
   ]
  },
  {
   "cell_type": "code",
   "execution_count": 121,
   "id": "9e4df219",
   "metadata": {},
   "outputs": [],
   "source": [
    "# Rename the email_text column to match the nigerian_fraud_df\n",
    "df_ai_generated.rename(columns={'email_text': 'text'}, inplace=True)\n",
    "\n",
    "# Combine the datasets\n",
    "df_combined = pd.concat([df_nigerian_scam, df_ai_generated], ignore_index=True)\n",
    "\n",
    "# Check for missing values and drop rows with missing text\n",
    "df_combined = df_combined.dropna(subset=['text'])\n",
    "\n",
    "# Split the dataset into features and labels\n",
    "texts = df_combined['text'].values\n",
    "labels = df_combined['label'].values\n",
    "\n",
    "# Split the dataset into training and testing sets\n",
    "X_train, X_test, y_train, y_test = train_test_split(texts, labels, test_size=0.2, random_state=42)\n",
    "\n",
    "# Set parameters\n",
    "max_words = 20000  # Maximum number of words\n",
    "embedding_dim = 100  # Embedding dimensions\n",
    "max_length = 50  # Maximum sequence length"
   ]
  },
  {
   "cell_type": "code",
   "execution_count": 122,
   "id": "bc058ff7",
   "metadata": {},
   "outputs": [
    {
     "data": {
      "text/html": [
       "<pre style=\"white-space:pre;overflow-x:auto;line-height:normal;font-family:Menlo,'DejaVu Sans Mono',consolas,'Courier New',monospace\"><span style=\"font-weight: bold\">Model: \"sequential_5\"</span>\n",
       "</pre>\n"
      ],
      "text/plain": [
       "\u001b[1mModel: \"sequential_5\"\u001b[0m\n"
      ]
     },
     "metadata": {},
     "output_type": "display_data"
    },
    {
     "data": {
      "text/html": [
       "<pre style=\"white-space:pre;overflow-x:auto;line-height:normal;font-family:Menlo,'DejaVu Sans Mono',consolas,'Courier New',monospace\">┏━━━━━━━━━━━━━━━━━━━━━━━━━━━━━━━━━┳━━━━━━━━━━━━━━━━━━━━━━━━┳━━━━━━━━━━━━━━━┓\n",
       "┃<span style=\"font-weight: bold\"> Layer (type)                    </span>┃<span style=\"font-weight: bold\"> Output Shape           </span>┃<span style=\"font-weight: bold\">       Param # </span>┃\n",
       "┡━━━━━━━━━━━━━━━━━━━━━━━━━━━━━━━━━╇━━━━━━━━━━━━━━━━━━━━━━━━╇━━━━━━━━━━━━━━━┩\n",
       "│ embedding_5 (<span style=\"color: #0087ff; text-decoration-color: #0087ff\">Embedding</span>)         │ ?                      │   <span style=\"color: #00af00; text-decoration-color: #00af00\">0</span> (unbuilt) │\n",
       "├─────────────────────────────────┼────────────────────────┼───────────────┤\n",
       "│ lstm_2 (<span style=\"color: #0087ff; text-decoration-color: #0087ff\">LSTM</span>)                   │ ?                      │   <span style=\"color: #00af00; text-decoration-color: #00af00\">0</span> (unbuilt) │\n",
       "├─────────────────────────────────┼────────────────────────┼───────────────┤\n",
       "│ dense_2 (<span style=\"color: #0087ff; text-decoration-color: #0087ff\">Dense</span>)                 │ ?                      │   <span style=\"color: #00af00; text-decoration-color: #00af00\">0</span> (unbuilt) │\n",
       "└─────────────────────────────────┴────────────────────────┴───────────────┘\n",
       "</pre>\n"
      ],
      "text/plain": [
       "┏━━━━━━━━━━━━━━━━━━━━━━━━━━━━━━━━━┳━━━━━━━━━━━━━━━━━━━━━━━━┳━━━━━━━━━━━━━━━┓\n",
       "┃\u001b[1m \u001b[0m\u001b[1mLayer (type)                   \u001b[0m\u001b[1m \u001b[0m┃\u001b[1m \u001b[0m\u001b[1mOutput Shape          \u001b[0m\u001b[1m \u001b[0m┃\u001b[1m \u001b[0m\u001b[1m      Param #\u001b[0m\u001b[1m \u001b[0m┃\n",
       "┡━━━━━━━━━━━━━━━━━━━━━━━━━━━━━━━━━╇━━━━━━━━━━━━━━━━━━━━━━━━╇━━━━━━━━━━━━━━━┩\n",
       "│ embedding_5 (\u001b[38;5;33mEmbedding\u001b[0m)         │ ?                      │   \u001b[38;5;34m0\u001b[0m (unbuilt) │\n",
       "├─────────────────────────────────┼────────────────────────┼───────────────┤\n",
       "│ lstm_2 (\u001b[38;5;33mLSTM\u001b[0m)                   │ ?                      │   \u001b[38;5;34m0\u001b[0m (unbuilt) │\n",
       "├─────────────────────────────────┼────────────────────────┼───────────────┤\n",
       "│ dense_2 (\u001b[38;5;33mDense\u001b[0m)                 │ ?                      │   \u001b[38;5;34m0\u001b[0m (unbuilt) │\n",
       "└─────────────────────────────────┴────────────────────────┴───────────────┘\n"
      ]
     },
     "metadata": {},
     "output_type": "display_data"
    },
    {
     "data": {
      "text/html": [
       "<pre style=\"white-space:pre;overflow-x:auto;line-height:normal;font-family:Menlo,'DejaVu Sans Mono',consolas,'Courier New',monospace\"><span style=\"font-weight: bold\"> Total params: </span><span style=\"color: #00af00; text-decoration-color: #00af00\">0</span> (0.00 B)\n",
       "</pre>\n"
      ],
      "text/plain": [
       "\u001b[1m Total params: \u001b[0m\u001b[38;5;34m0\u001b[0m (0.00 B)\n"
      ]
     },
     "metadata": {},
     "output_type": "display_data"
    },
    {
     "data": {
      "text/html": [
       "<pre style=\"white-space:pre;overflow-x:auto;line-height:normal;font-family:Menlo,'DejaVu Sans Mono',consolas,'Courier New',monospace\"><span style=\"font-weight: bold\"> Trainable params: </span><span style=\"color: #00af00; text-decoration-color: #00af00\">0</span> (0.00 B)\n",
       "</pre>\n"
      ],
      "text/plain": [
       "\u001b[1m Trainable params: \u001b[0m\u001b[38;5;34m0\u001b[0m (0.00 B)\n"
      ]
     },
     "metadata": {},
     "output_type": "display_data"
    },
    {
     "data": {
      "text/html": [
       "<pre style=\"white-space:pre;overflow-x:auto;line-height:normal;font-family:Menlo,'DejaVu Sans Mono',consolas,'Courier New',monospace\"><span style=\"font-weight: bold\"> Non-trainable params: </span><span style=\"color: #00af00; text-decoration-color: #00af00\">0</span> (0.00 B)\n",
       "</pre>\n"
      ],
      "text/plain": [
       "\u001b[1m Non-trainable params: \u001b[0m\u001b[38;5;34m0\u001b[0m (0.00 B)\n"
      ]
     },
     "metadata": {},
     "output_type": "display_data"
    },
    {
     "name": "stdout",
     "output_type": "stream",
     "text": [
      "Epoch 1/10\n",
      "\u001b[1m44/44\u001b[0m \u001b[32m━━━━━━━━━━━━━━━━━━━━\u001b[0m\u001b[37m\u001b[0m \u001b[1m2s\u001b[0m 34ms/step - accuracy: 0.9141 - loss: 0.4346 - val_accuracy: 1.0000 - val_loss: 0.0047\n",
      "Epoch 2/10\n",
      "\u001b[1m44/44\u001b[0m \u001b[32m━━━━━━━━━━━━━━━━━━━━\u001b[0m\u001b[37m\u001b[0m \u001b[1m1s\u001b[0m 30ms/step - accuracy: 0.9978 - loss: 0.0112 - val_accuracy: 1.0000 - val_loss: 0.0018\n",
      "Epoch 3/10\n",
      "\u001b[1m44/44\u001b[0m \u001b[32m━━━━━━━━━━━━━━━━━━━━\u001b[0m\u001b[37m\u001b[0m \u001b[1m1s\u001b[0m 31ms/step - accuracy: 0.9998 - loss: 0.0026 - val_accuracy: 1.0000 - val_loss: 0.0040\n",
      "Epoch 4/10\n",
      "\u001b[1m44/44\u001b[0m \u001b[32m━━━━━━━━━━━━━━━━━━━━\u001b[0m\u001b[37m\u001b[0m \u001b[1m1s\u001b[0m 34ms/step - accuracy: 0.9993 - loss: 0.0057 - val_accuracy: 1.0000 - val_loss: 7.3710e-04\n",
      "Epoch 5/10\n",
      "\u001b[1m44/44\u001b[0m \u001b[32m━━━━━━━━━━━━━━━━━━━━\u001b[0m\u001b[37m\u001b[0m \u001b[1m1s\u001b[0m 33ms/step - accuracy: 1.0000 - loss: 7.4339e-04 - val_accuracy: 1.0000 - val_loss: 2.9499e-04\n",
      "Epoch 6/10\n",
      "\u001b[1m44/44\u001b[0m \u001b[32m━━━━━━━━━━━━━━━━━━━━\u001b[0m\u001b[37m\u001b[0m \u001b[1m1s\u001b[0m 32ms/step - accuracy: 1.0000 - loss: 5.0419e-04 - val_accuracy: 1.0000 - val_loss: 2.1051e-04\n",
      "Epoch 7/10\n",
      "\u001b[1m44/44\u001b[0m \u001b[32m━━━━━━━━━━━━━━━━━━━━\u001b[0m\u001b[37m\u001b[0m \u001b[1m2s\u001b[0m 42ms/step - accuracy: 1.0000 - loss: 2.7095e-04 - val_accuracy: 1.0000 - val_loss: 1.6463e-04\n",
      "Epoch 8/10\n",
      "\u001b[1m44/44\u001b[0m \u001b[32m━━━━━━━━━━━━━━━━━━━━\u001b[0m\u001b[37m\u001b[0m \u001b[1m1s\u001b[0m 32ms/step - accuracy: 1.0000 - loss: 2.4110e-04 - val_accuracy: 1.0000 - val_loss: 1.3217e-04\n",
      "Epoch 9/10\n",
      "\u001b[1m44/44\u001b[0m \u001b[32m━━━━━━━━━━━━━━━━━━━━\u001b[0m\u001b[37m\u001b[0m \u001b[1m1s\u001b[0m 32ms/step - accuracy: 1.0000 - loss: 2.1453e-04 - val_accuracy: 1.0000 - val_loss: 1.0830e-04\n",
      "Epoch 10/10\n",
      "\u001b[1m44/44\u001b[0m \u001b[32m━━━━━━━━━━━━━━━━━━━━\u001b[0m\u001b[37m\u001b[0m \u001b[1m1s\u001b[0m 30ms/step - accuracy: 1.0000 - loss: 1.5061e-04 - val_accuracy: 1.0000 - val_loss: 9.3090e-05\n"
     ]
    }
   ],
   "source": [
    "# Prepare the data\n",
    "# Convert the text data to sequences using a tokenizer\n",
    "from tensorflow.keras.preprocessing.text import Tokenizer\n",
    "\n",
    "tokenizer = Tokenizer(num_words=max_words)\n",
    "tokenizer.fit_on_texts(df_combined['text'])  # 'text' should be the column with email text\n",
    "sequences = tokenizer.texts_to_sequences(df_combined['text'])\n",
    "X = pad_sequences(sequences, maxlen=max_length)\n",
    "\n",
    "# Labels\n",
    "y = df_combined['label']\n",
    "\n",
    "# Split the data into training and testing sets\n",
    "X_train, X_test, y_train, y_test = train_test_split(X, y, test_size=0.2, random_state=42)\n",
    "\n",
    "# Define the model\n",
    "model = Sequential()\n",
    "\n",
    "# Embedding Layer (removed input_length)\n",
    "model.add(Embedding(input_dim=max_words, output_dim=embedding_dim))\n",
    "\n",
    "# LSTM Layer\n",
    "model.add(LSTM(100, return_sequences=False, dropout=0.2, recurrent_dropout=0.2))\n",
    "\n",
    "# Output Layer\n",
    "model.add(Dense(1, activation='sigmoid'))  # For binary classification\n",
    "\n",
    "# Compile the model\n",
    "model.compile(optimizer='adam', loss='binary_crossentropy', metrics=['accuracy'])\n",
    "\n",
    "# Model Summary\n",
    "model.summary()\n",
    "\n",
    "# Fit the model (train on training data and validate on test data)\n",
    "history = model.fit(X_train, y_train, epochs=10, batch_size=32, validation_data=(X_test, y_test))"
   ]
  },
  {
   "cell_type": "code",
   "execution_count": 123,
   "id": "fe0160e3",
   "metadata": {},
   "outputs": [
    {
     "name": "stdout",
     "output_type": "stream",
     "text": [
      "Score for fold 1: compile_metrics = 1.0, loss = 0.0006355492514558136\n",
      "Score for fold 2: compile_metrics = 1.0, loss = 9.029968350660056e-05\n",
      "Score for fold 3: compile_metrics = 1.0, loss = 0.0029084773268550634\n",
      "Score for fold 4: compile_metrics = 1.0, loss = 0.0012048076605424285\n",
      "Score for fold 5: compile_metrics = 1.0, loss = 8.031608740566298e-05\n",
      "Average accuracy: 1.0\n",
      "Average loss: 0.0009838900019531137\n"
     ]
    }
   ],
   "source": [
    "from sklearn.model_selection import KFold\n",
    "import numpy as np\n",
    "\n",
    "# Define number of folds\n",
    "k = 5\n",
    "kf = KFold(n_splits=k, shuffle=True, random_state=42)\n",
    "\n",
    "# Arrays to hold the results of each fold\n",
    "accuracy_per_fold = []\n",
    "loss_per_fold = []\n",
    "\n",
    "# K-Fold Cross Validation\n",
    "for train_index, val_index in kf.split(X):\n",
    "    # Split the data into training and validation sets for this fold\n",
    "    X_train, X_val = X[train_index], X[val_index]\n",
    "    y_train, y_val = y[train_index], y[val_index]\n",
    "\n",
    "    # Define the model (same architecture as before)\n",
    "    model = Sequential()\n",
    "    model.add(Embedding(input_dim=max_words, output_dim=embedding_dim))\n",
    "    model.add(LSTM(100, return_sequences=False, dropout=0.2, recurrent_dropout=0.2))\n",
    "    model.add(Dense(1, activation='sigmoid'))\n",
    "    \n",
    "    # Compile the model\n",
    "    model.compile(optimizer='adam', loss='binary_crossentropy', metrics=['accuracy'])\n",
    "\n",
    "    # Train the model on this fold's training data\n",
    "    history = model.fit(X_train, y_train, epochs=10, batch_size=32, validation_data=(X_val, y_val), verbose=0)\n",
    "\n",
    "    # Evaluate the model on the validation data for this fold\n",
    "    scores = model.evaluate(X_val, y_val, verbose=0)\n",
    "    print(f\"Score for fold {len(accuracy_per_fold) + 1}: {model.metrics_names[1]} = {scores[1]}, loss = {scores[0]}\")\n",
    "    \n",
    "    accuracy_per_fold.append(scores[1])\n",
    "    loss_per_fold.append(scores[0])\n",
    "\n",
    "# Print the average accuracy and loss across all folds\n",
    "print(f\"Average accuracy: {np.mean(accuracy_per_fold)}\")\n",
    "print(f\"Average loss: {np.mean(loss_per_fold)}\")\n"
   ]
  },
  {
   "cell_type": "code",
   "execution_count": null,
   "id": "8eb16d71",
   "metadata": {},
   "outputs": [],
   "source": []
  }
 ],
 "metadata": {
  "kernelspec": {
   "display_name": "Python 3 (ipykernel)",
   "language": "python",
   "name": "python3"
  },
  "language_info": {
   "codemirror_mode": {
    "name": "ipython",
    "version": 3
   },
   "file_extension": ".py",
   "mimetype": "text/x-python",
   "name": "python",
   "nbconvert_exporter": "python",
   "pygments_lexer": "ipython3",
   "version": "3.11.4"
  }
 },
 "nbformat": 4,
 "nbformat_minor": 5
}
